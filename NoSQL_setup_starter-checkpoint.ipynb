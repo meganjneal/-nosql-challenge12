 {  
  "cells": [  
   {  
    "cell_type": "markdown",  
    "metadata": {},  
    "source": [  
     "# Eat Safe, Love - Database Setup\n",  
     "\n",  
     "This notebook sets up your MongoDB database and imports the data from `Resources/establishments.json`.\n",  
     "\n",  
     "Make sure you run the following command in your terminal (from the repository root) to load the data into MongoDB:\n",  
     "\n",  
     "```bash\n",  
    "mongoimport --type json -d uk_food -c establishments --drop --jsonArray Resources/establishments.json\n",  
    "```"  
    ]  
   },  
   {  
    "cell_type": "code",  
    "execution_count": null,  
    "metadata": {},  
    "source": [  
     "# Import necessary libraries\n",  
     "from pymongo import MongoClient\n",  
     "from pprint import pprint\n",  
     "import pandas as pd\n",  
     "\n",  
     "# Create an instance of MongoClient\n",  
     "mongo = MongoClient('mongodb://localhost:27017/')\n",  
     "\n",  
     "# Define the database and collection\n",  
     "db = mongo['uk_food']\n",  
     "establishments = db['establishments']\n",  
     "\n",  
     "# Perform a simple check: retrieve one document\n",  
     "doc = establishments.find_one()\n",  
     "pprint(doc)\n",  
     "\n",  
     "# Convert documents to a DataFrame to view a sample\n",  
     "docs = list(establishments.find())\n",  
     "df = pd.DataFrame(docs)\n",  
     "print('DataFrame head:')\n",  
     "print(df.head())"  
    ]  
   }  
  ],  
  "metadata": {  
   "kernelspec": {  
    "display_name": "Python 3",  
    "language": "python",  
    "name": "python3"  
   },  
   "language_info": {  
    "name": "python",  
    "version": "3.x"  
   }  
  },  
  "nbformat": 4,  
  "nbformat_minor": 5  
 }  