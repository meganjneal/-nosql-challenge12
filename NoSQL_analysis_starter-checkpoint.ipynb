 {  
  "cells": [  
   {  
    "cell_type": "markdown",  
    "metadata": {},  
    "source": [  
     "# Eat Safe, Love - Exploratory Analysis\n",  
     "\n",  
     "This notebook is meant for the analysis portion of the challenge. You will perform operations such as updating records, filtering queries, and converting data types.\n",  
     "\n",  
     "Remember to detail your process with comments and debug prints to show each step."  
    ]  
   },  
   {  
    "cell_type": "code",  
    "execution_count": null,  
    "metadata": {},  
    "source": [  
     "# Import necessary libraries\n",  
     "from pymongo import MongoClient\n",  
     "from pprint import pprint\n",  
     "import pandas as pd\n",  
     "\n",  
     "# Create a MongoClient instance\n",  
     "mongo = MongoClient('mongodb://localhost:27017/')\n",  
     "\n",  
     "# Connect to the database and collection\n",  
     "db = mongo['uk_food']\n",  
     "establishments = db['establishments']\n",  
     "\n",  
     "# Example operation: Update the document for \"Penang Flavours\"\n",  
     "# (Assuming you'll figure out the correct BusinessTypeID based on your data)\n",  
     "query = { 'BusinessName': 'Penang Flavours' }\n",  
     "update = { '$set': { 'BusinessTypeID': 'Restaurant/Cafe/Canteen' } }  # update as needed\n",  
     "result = establishments.update_one(query, update)\n",  
     "print('Matched:', result.matched_count, 'Modified:', result.modified_count)\n",  
     "\n",  
     "# Example operation: Delete documents where 'LocalAuthorityName' is 'Dover'\n",  
     "delete_query = { 'LocalAuthorityName': 'Dover' }\n",  
     "del_result = establishments.delete_many(delete_query)\n",  
     "print('Deleted count:', del_result.deleted_count)\n",  
     "\n",  
     "# For further analysis, you can load the documents into a DataFrame:\n",  
     "docs = list(establishments.find())\n",  
     "df = pd.DataFrame(docs)\n",  
     "print('DataFrame sample:')\n",  
     "print(df.head())\n",  
     "\n",  
     "# Bonus Example: Convert RatingValue and convert latitude/longitude data types\n",  
     "# (You will need to adjust based on actual field names and data inspection)\n",  
     "df['RatingValue'] = pd.to_numeric(df['RatingValue'], errors='coerce')\n",  
     "df['latitude'] = pd.to_numeric(df['latitude'], errors='coerce')\n",  
     "df['longitude'] = pd.to_numeric(df['longitude'], errors='coerce')\n",  
     "\n",  
     "print('Data types after conversion:')\n",  
     "print(df.dtypes)"  
    ]  
   }  
  ],  
  "metadata": {  
   "kernelspec": {  
    "display_name": "Python 3",  
    "language": "python",  
    "name": "python3"  
   },  
   "language_info": {  
    "name": "python",  
    "version": "3.x"  
   }  
  },  
  "nbformat": 4,  
  "nbformat_minor": 5  
 }  